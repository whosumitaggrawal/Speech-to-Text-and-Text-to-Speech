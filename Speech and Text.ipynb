{
 "cells": [
  {
   "cell_type": "markdown",
   "id": "af7f9715",
   "metadata": {},
   "source": [
    "## Create a speech recognition object"
   ]
  },
  {
   "cell_type": "code",
   "execution_count": null,
   "id": "908e1565",
   "metadata": {},
   "outputs": [],
   "source": [
    "# import tkinter as tk\n",
    "import speech_recognition as sr\n",
    "\n",
    "# Create a speech recognition object\n",
    "recognizer = sr.Recognizer()\n",
    "\n",
    "# Create a function to handle button click\n",
    "def convert_speech_to_text():\n",
    "    # Use the default microphone as the audio source\n",
    "    with sr.Microphone() as source:\n",
    "        # Adjust for ambient noise\n",
    "        recognizer.adjust_for_ambient_noise(source)\n",
    "        # Listen for user speech\n",
    "        audio = recognizer.listen(source)\n",
    "\n",
    "    try:\n",
    "        # Recognize speech using the Google Web Speech API\n",
    "        text = recognizer.recognize_google(audio)\n",
    "        # Update the text in the GUI\n",
    "        text_entry.delete(1.0, tk.END)\n",
    "        text_entry.insert(tk.END, text)\n",
    "    except sr.UnknownValueError:\n",
    "        text_entry.delete(1.0, tk.END)\n",
    "        text_entry.insert(tk.END, \"Speech recognition could not understand audio\")\n",
    "    except sr.RequestError as e:\n",
    "        text_entry.delete(1.0, tk.END)\n",
    "        text_entry.insert(tk.END, \"Could not request results from Google Speech Recognition service; {0}\".format(e))\n",
    "\n",
    "# Create the main window\n",
    "window = tk.Tk()\n",
    "window.title(\"Speech to Text Converter\")\n",
    "\n",
    "# Create a text entry widget\n",
    "text_entry = tk.Text(window, height=10, width=50)\n",
    "text_entry.pack()\n",
    "\n",
    "# Create a button widget\n",
    "convert_button = tk.Button(window, text=\"Convert\", command=convert_speech_to_text)\n",
    "convert_button.pack()\n",
    "\n",
    "# Start the main event loop\n",
    "window.mainloop()\n"
   ]
  },
  {
   "cell_type": "markdown",
   "id": "acaeb574",
   "metadata": {},
   "source": [
    "## Generate Voice outout for the given Text"
   ]
  },
  {
   "cell_type": "code",
   "execution_count": null,
   "id": "d75b1351",
   "metadata": {},
   "outputs": [],
   "source": [
    "import pyttsx3\n",
    "\n",
    "# Initialize the speech engine\n",
    "engine = pyttsx3.init()\n",
    "\n",
    "# Retrieve available voices\n",
    "voices = engine.getProperty('voices')\n",
    "\n",
    "# Print available voices\n",
    "print(\"Available Voices:\")\n",
    "for voice in voices:\n",
    "    print(\"Voice ID:\", voice.id)\n",
    "    print(\"Name:\", voice.name)\n",
    "    print(\"Languages:\", voice.languages)\n",
    "    print(\"\")\n",
    "\n",
    "# Set the desired voice\n",
    "voice_id = 'voice_id'  # Replace with the ID of the desired voice\n",
    "engine.setProperty('voice', voice_id)\n",
    "\n",
    "# Speak a given text\n",
    "text = \"Hello, This is a test audio, A male voice is narrating it. This is done with the help of Speech Engine with the pyttsx3 library\"\n",
    "engine.say(text)\n",
    "#engine.runAndWait()\n"
   ]
  }
 ],
 "metadata": {
  "kernelspec": {
   "display_name": "Python 3 (ipykernel)",
   "language": "python",
   "name": "python3"
  },
  "language_info": {
   "codemirror_mode": {
    "name": "ipython",
    "version": 3
   },
   "file_extension": ".py",
   "mimetype": "text/x-python",
   "name": "python",
   "nbconvert_exporter": "python",
   "pygments_lexer": "ipython3",
   "version": "3.10.9"
  }
 },
 "nbformat": 4,
 "nbformat_minor": 5
}
